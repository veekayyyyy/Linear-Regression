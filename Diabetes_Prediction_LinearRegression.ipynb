{
 "cells": [
  {
   "cell_type": "code",
   "execution_count": 2,
   "id": "b6f4e25f",
   "metadata": {},
   "outputs": [
    {
     "data": {
      "text/plain": [
       "(331, 11)"
      ]
     },
     "execution_count": 2,
     "metadata": {},
     "output_type": "execute_result"
    }
   ],
   "source": [
    "from sklearn import datasets\n",
    "import numpy as np\n",
    "\n",
    "diabetes_dataset = np.loadtxt('diabetes_training.csv', delimiter=',')\n",
    "diabetes_dataset.shape"
   ]
  },
  {
   "cell_type": "code",
   "execution_count": 3,
   "id": "3ee6d5a7",
   "metadata": {},
   "outputs": [],
   "source": [
    "x = diabetes_dataset[:,0:10]\n",
    "y = diabetes_dataset[:,10]"
   ]
  },
  {
   "cell_type": "code",
   "execution_count": 4,
   "id": "09468077",
   "metadata": {},
   "outputs": [
    {
     "data": {
      "text/html": [
       "<div>\n",
       "<style scoped>\n",
       "    .dataframe tbody tr th:only-of-type {\n",
       "        vertical-align: middle;\n",
       "    }\n",
       "\n",
       "    .dataframe tbody tr th {\n",
       "        vertical-align: top;\n",
       "    }\n",
       "\n",
       "    .dataframe thead th {\n",
       "        text-align: right;\n",
       "    }\n",
       "</style>\n",
       "<table border=\"1\" class=\"dataframe\">\n",
       "  <thead>\n",
       "    <tr style=\"text-align: right;\">\n",
       "      <th></th>\n",
       "      <th>0</th>\n",
       "      <th>1</th>\n",
       "      <th>2</th>\n",
       "      <th>3</th>\n",
       "      <th>4</th>\n",
       "      <th>5</th>\n",
       "      <th>6</th>\n",
       "      <th>7</th>\n",
       "      <th>8</th>\n",
       "      <th>9</th>\n",
       "    </tr>\n",
       "  </thead>\n",
       "  <tbody>\n",
       "    <tr>\n",
       "      <th>0</th>\n",
       "      <td>-0.049105</td>\n",
       "      <td>-0.044642</td>\n",
       "      <td>0.160855</td>\n",
       "      <td>-0.046985</td>\n",
       "      <td>-0.029088</td>\n",
       "      <td>-0.019790</td>\n",
       "      <td>-0.047082</td>\n",
       "      <td>0.034309</td>\n",
       "      <td>0.028017</td>\n",
       "      <td>0.011349</td>\n",
       "    </tr>\n",
       "    <tr>\n",
       "      <th>1</th>\n",
       "      <td>-0.070900</td>\n",
       "      <td>0.050680</td>\n",
       "      <td>-0.089197</td>\n",
       "      <td>-0.074528</td>\n",
       "      <td>-0.042848</td>\n",
       "      <td>-0.025739</td>\n",
       "      <td>-0.032356</td>\n",
       "      <td>-0.002592</td>\n",
       "      <td>-0.012908</td>\n",
       "      <td>-0.054925</td>\n",
       "    </tr>\n",
       "    <tr>\n",
       "      <th>2</th>\n",
       "      <td>0.001751</td>\n",
       "      <td>-0.044642</td>\n",
       "      <td>-0.070875</td>\n",
       "      <td>-0.022885</td>\n",
       "      <td>-0.001569</td>\n",
       "      <td>-0.001001</td>\n",
       "      <td>0.026550</td>\n",
       "      <td>-0.039493</td>\n",
       "      <td>-0.022512</td>\n",
       "      <td>0.007207</td>\n",
       "    </tr>\n",
       "    <tr>\n",
       "      <th>3</th>\n",
       "      <td>0.048974</td>\n",
       "      <td>0.050680</td>\n",
       "      <td>0.081097</td>\n",
       "      <td>0.021872</td>\n",
       "      <td>0.043837</td>\n",
       "      <td>0.064134</td>\n",
       "      <td>-0.054446</td>\n",
       "      <td>0.071210</td>\n",
       "      <td>0.032433</td>\n",
       "      <td>0.048628</td>\n",
       "    </tr>\n",
       "    <tr>\n",
       "      <th>4</th>\n",
       "      <td>0.041708</td>\n",
       "      <td>0.050680</td>\n",
       "      <td>0.061696</td>\n",
       "      <td>-0.040099</td>\n",
       "      <td>-0.013953</td>\n",
       "      <td>0.006202</td>\n",
       "      <td>-0.028674</td>\n",
       "      <td>-0.002592</td>\n",
       "      <td>-0.014956</td>\n",
       "      <td>0.011349</td>\n",
       "    </tr>\n",
       "  </tbody>\n",
       "</table>\n",
       "</div>"
      ],
      "text/plain": [
       "          0         1         2         3         4         5         6  \\\n",
       "0 -0.049105 -0.044642  0.160855 -0.046985 -0.029088 -0.019790 -0.047082   \n",
       "1 -0.070900  0.050680 -0.089197 -0.074528 -0.042848 -0.025739 -0.032356   \n",
       "2  0.001751 -0.044642 -0.070875 -0.022885 -0.001569 -0.001001  0.026550   \n",
       "3  0.048974  0.050680  0.081097  0.021872  0.043837  0.064134 -0.054446   \n",
       "4  0.041708  0.050680  0.061696 -0.040099 -0.013953  0.006202 -0.028674   \n",
       "\n",
       "          7         8         9  \n",
       "0  0.034309  0.028017  0.011349  \n",
       "1 -0.002592 -0.012908 -0.054925  \n",
       "2 -0.039493 -0.022512  0.007207  \n",
       "3  0.071210  0.032433  0.048628  \n",
       "4 -0.002592 -0.014956  0.011349  "
      ]
     },
     "execution_count": 4,
     "metadata": {},
     "output_type": "execute_result"
    }
   ],
   "source": [
    "import pandas as pd\n",
    "\n",
    "panda_df = pd.DataFrame(x)\n",
    "panda_df.head()"
   ]
  },
  {
   "cell_type": "code",
   "execution_count": 8,
   "id": "e18d10a7",
   "metadata": {},
   "outputs": [],
   "source": [
    "from sklearn import model_selection\n",
    "from sklearn.linear_model import LinearRegression\n",
    "\n",
    "\n",
    "x_train,x_test,y_train,y_test = model_selection.train_test_split(x,y)\n",
    "alg1 = LinearRegression()\n",
    "\n",
    "alg1.fit(x_train,y_train)\n",
    "\n",
    "y_pred = alg1.predict(x_test)"
   ]
  },
  {
   "cell_type": "code",
   "execution_count": 9,
   "id": "e2399a5c",
   "metadata": {},
   "outputs": [
    {
     "data": {
      "image/png": "[encoded data removed]",
      "text/plain": [
       "<Figure size 432x288 with 1 Axes>"
      ]
     },
     "metadata": {
      "needs_background": "light"
     },
     "output_type": "display_data"
    }
   ],
   "source": [
    "import matplotlib.pyplot as pyp\n",
    "\n",
    "pyp.scatter(y_pred,y_test)\n",
    "pyp.show()"
   ]
  },
  {
   "cell_type": "code",
   "execution_count": 10,
   "id": "6c5f5103",
   "metadata": {},
   "outputs": [
    {
     "data": {
      "image/png": "[encoded data removed]",
      "text/plain": [
       "<Figure size 432x288 with 1 Axes>"
      ]
     },
     "metadata": {
      "needs_background": "light"
     },
     "output_type": "display_data"
    }
   ],
   "source": [
    "diabetes_test = np.loadtxt('diabetes_test.csv', delimiter=',')\n",
    "x_test = diabetes_dataset[:,0:10]\n",
    "y_test = diabetes_dataset[:,10]\n",
    "\n",
    "y_pred = alg1.predict(x_test)\n",
    "\n",
    "pyp.scatter(y_pred,y_test)\n",
    "pyp.show()"
   ]
  },
  {
   "cell_type": "code",
   "execution_count": 11,
   "id": "22d28a1e",
   "metadata": {},
   "outputs": [
    {
     "data": {
      "text/plain": [
       "array([277.99359,  61.30783,  93.16994, 216.17465, 162.97658,  74.64939,\n",
       "       184.99005, 175.10703,  46.50749, 225.59713, 109.51736,  91.25332,\n",
       "       122.09902,  69.88606, 134.22402, 143.47108,  65.30445,  99.55616,\n",
       "       195.83124, 112.87458, 128.71652, 163.30977,  91.57571,  82.55437,\n",
       "        63.96142, 152.79338, 189.56694, 117.74855, 238.4496 , 143.15722,\n",
       "        54.49683, 173.68465,  97.60159, 112.30077, 151.6839 , 217.15641,\n",
       "       175.6617 ,  83.67085, 167.68621, 202.32124, 149.40533, 138.21036,\n",
       "        30.01882, 115.00614, 125.10011, 213.25808, 247.63379, 155.589  ,\n",
       "       175.99895,  84.62987, 146.3987 ,  84.20192, 203.12875, 156.66362,\n",
       "       162.57144, 128.97563, 189.44037, 145.48819, 220.93125, 117.58534,\n",
       "       130.28279, 159.15491,  67.44258, 237.23852, 148.14662, 120.97463,\n",
       "       148.36931, 187.85061, 163.46883, 113.88579, 108.99055, 149.90832,\n",
       "       138.71556, 229.46571, 139.63201, 103.00777, 260.89216, 182.28027,\n",
       "       210.28129, 188.95182, 213.77033, 155.50394,  85.98267, 182.91001,\n",
       "       123.41858, 131.13804,  69.1229 ,  54.62606, 151.04306, 140.00781,\n",
       "       211.11053,  72.16078,  54.07554, 212.39836, 110.16751, 110.95452,\n",
       "       236.76784, 209.95282, 243.29804, 138.42812,  74.09398,  88.73726,\n",
       "       179.29784, 171.46079, 123.34679,  54.68221,  90.32086, 119.01367,\n",
       "       143.9122 , 128.92544, 234.23447,  50.55572, 189.69751, 195.03531,\n",
       "       162.67672,  76.02038, 233.52353, 180.28247, 107.5078 , 176.95067,\n",
       "       225.45406, 189.71004, 181.41223, 196.88669, 155.49512, 190.48172,\n",
       "       148.29297, 100.54794, 187.03858, 171.08317, 190.86817, 128.62881,\n",
       "       172.12687,  81.25173,  86.22682, 170.06273,  84.63636, 187.08533,\n",
       "        65.36316, 121.30848,  68.40575, 113.3663 , 132.78571,  90.94935,\n",
       "       207.39364, 128.39299, 157.86923, 144.9424 ,  58.04937, 214.88104,\n",
       "       263.86202, 136.2511 , 184.6648 , 146.55606, 168.37015, 111.43933,\n",
       "       158.37897, 169.72827, 118.7363 ,  98.03966,  82.30232, 263.08017,\n",
       "       216.78802, 133.21101, 135.13322, 145.3738 ,  67.09679, 191.44291,\n",
       "       148.84092, 237.84863,  82.40175, 184.26653,  75.01833, 185.30524,\n",
       "       163.82385, 104.34793, 235.31261, 165.33059, 104.42064,  96.69596,\n",
       "        61.52333, 185.84256, 129.38737, 151.17684,  59.38151, 298.86702,\n",
       "        80.49263, 124.01151, 121.46958, 163.43213, 181.73535, 187.52663,\n",
       "       137.57773, 181.52878,  93.22554, 233.04803, 300.44421, 172.14105,\n",
       "        98.13816,  40.9291 ,  99.62326, 166.54152, 108.42129, 122.39139,\n",
       "       143.46504, 124.76402,  77.30011,  96.13449, 167.74037,  90.99243,\n",
       "        95.47183, 268.0775 , 135.52617, 263.95028,  89.41003, 175.1994 ,\n",
       "       122.34047, 127.3351 , 124.14699, 254.24703, 100.68483, 120.02879,\n",
       "       137.77576, 173.7628 , 203.18737, 156.14195, 141.86835, 116.64828,\n",
       "        56.97913, 106.00034, 179.27635, 262.07435, 139.51871, 140.80877,\n",
       "       187.10599, 102.6434 ,  70.92085, 182.1821 , 127.05558, 255.98222,\n",
       "        97.95506, 236.15388, 208.30347, 181.37091, 121.50549,  58.06224,\n",
       "       162.80642, 229.15252, 150.3396 , 171.38557, 233.53514, 192.05574,\n",
       "       222.05309, 163.98284, 219.36336,  70.7443 , 186.01041, 160.04188,\n",
       "       168.73018, 122.7384 , 130.43915, 164.64163, 227.47041, 168.64094,\n",
       "       113.5256 , 136.78336, 161.11443, 140.49795, 109.03695, 150.48815,\n",
       "       114.47657, 114.44768, 174.27657, 240.02373,  86.5487 , 149.72331,\n",
       "       169.28763,  57.16298, 214.09608, 248.35286, 112.1926 , 242.14035,\n",
       "       238.67391, 118.53343, 182.9301 ,  74.71548, 183.53944, 137.04515,\n",
       "       113.01823, 193.21651, 161.27137,  70.77363, 248.94988, 161.4192 ,\n",
       "       120.88542, 223.58376,  93.6338 , 154.461  , 197.77221,  59.96643,\n",
       "       214.20964, 159.05246, 143.75759, 170.2419 , 255.82857, 224.40304,\n",
       "       102.57133, 116.22318,  97.27878,  35.48475, 210.1713 , 121.03328,\n",
       "       134.18836, 128.86854, 169.61817, 191.38891, 151.27108, 257.48432,\n",
       "       185.53586,  58.94516, 109.34845,  92.04584,  74.73841, 207.03252,\n",
       "        83.76675, 202.1072 , 196.51293,  65.47708, 220.7603 , 194.20353,\n",
       "       115.49634])"
      ]
     },
     "execution_count": 11,
     "metadata": {},
     "output_type": "execute_result"
    }
   ],
   "source": [
    "type(y_pred)\n",
    "y_pred_rounded = np.round(y_pred,decimals=5)\n",
    "y_pred_rounded"
   ]
  },
  {
   "cell_type": "code",
   "execution_count": 24,
   "id": "39970d25",
   "metadata": {},
   "outputs": [],
   "source": [
    "file_csv = np.savetxt('y_pred',y_pred_rounded, delimiter=',', fmt='%.5f')"
   ]
  },
  {
   "cell_type": "code",
   "execution_count": null,
   "id": "d352dd33",
   "metadata": {},
   "outputs": [],
   "source": []
  }
 ],
 "metadata": {
  "kernelspec": {
   "display_name": "Python 3 (ipykernel)",
   "language": "python",
   "name": "python3"
  },
  "language_info": {
   "codemirror_mode": {
    "name": "ipython",
    "version": 3
   },
   "file_extension": ".py",
   "mimetype": "text/x-python",
   "name": "python",
   "nbconvert_exporter": "python",
   "pygments_lexer": "ipython3",
   "version": "3.9.7"
  }
 },
 "nbformat": 4,
 "nbformat_minor": 5
}
